{
  "nbformat": 4,
  "nbformat_minor": 0,
  "metadata": {
    "colab": {
      "provenance": []
    },
    "kernelspec": {
      "name": "python3",
      "display_name": "Python 3"
    },
    "language_info": {
      "name": "python"
    }
  },
  "cells": [
    {
      "cell_type": "code",
      "execution_count": null,
      "metadata": {
        "id": "SmOtb2Prki5Y"
      },
      "outputs": [],
      "source": [
        "import random\n",
        "from datetime import datetime, timedelta\n",
        "import csv\n",
        "import pandas as pd\n",
        "from google.colab import files"
      ]
    },
    {
      "cell_type": "code",
      "source": [
        "# Define the products\n",
        "products = {\n",
        "    \"TruProducer Bootcamp\": 597,\n",
        "    \"Getting Your Music Heard in 2023\": 9,\n",
        "    \"TruDrums vol. 1\": 29,\n",
        "    \"TruSynths vol. 1\": 29,\n",
        "    \"TruGuitarLoops vol. 1\": 29\n",
        "}"
      ],
      "metadata": {
        "id": "GcpvUWqGtIeF"
      },
      "execution_count": null,
      "outputs": []
    },
    {
      "cell_type": "code",
      "source": [
        "# Define the pipelines (traffic sources)\n",
        "pipelines = [\"Organic Site Traffic\", \"Affiliates\", \"Facebook Ads\", \"YouTube Ads\"]"
      ],
      "metadata": {
        "id": "LM6YDIRfvjIh"
      },
      "execution_count": null,
      "outputs": []
    },
    {
      "cell_type": "code",
      "source": [
        "# Define the date range\n",
        "start_date = datetime(2023, 1, 1)\n",
        "end_date = datetime(2023, 3, 31)"
      ],
      "metadata": {
        "id": "OfxTrHZD1o15"
      },
      "execution_count": null,
      "outputs": []
    },
    {
      "cell_type": "code",
      "source": [
        "# Generate the transactions\n",
        "transactions = []"
      ],
      "metadata": {
        "id": "5JO3zAEb1sHy"
      },
      "execution_count": null,
      "outputs": []
    },
    {
      "cell_type": "code",
      "source": [
        "for date in range((end_date - start_date).days + 1):\n",
        "    current_date = start_date + timedelta(days=date)\n",
        "    for _ in range(random.randint(1, 10)):  # Generate multiple transactions per day\n",
        "        product = random.choice(list(products.keys()))\n",
        "        pipeline = random.choice(pipelines)\n",
        "        price = products[product]\n",
        "        customer_id = random.randint(1001, 1400)\n",
        "        transactions.append([current_date.strftime(\"%Y-%m-%d\"), product, pipeline, price, customer_id])\n"
      ],
      "metadata": {
        "id": "Ml9xhz8aS_si"
      },
      "execution_count": null,
      "outputs": []
    },
    {
      "cell_type": "code",
      "source": [
        "# Create a dataframe from the transactions list\n",
        "df = pd.DataFrame(transactions, columns=[\"Date\", \"Product\", \"Pipeline\", \"Total Gross Sales\", \"Customer ID\"])\n",
        "\n",
        "# Print the dataframe\n",
        "print(df)"
      ],
      "metadata": {
        "id": "CkpCRis7btGb"
      },
      "execution_count": null,
      "outputs": []
    },
    {
      "cell_type": "code",
      "source": [
        "# Save the dataframe as a CSV file\n",
        "df.to_csv('transactions.csv', index=False)\n",
        "\n",
        "# Download the CSV file to your local directory\n",
        "files.download('transactions.csv')"
      ],
      "metadata": {
        "id": "uqw_wIHodRCg"
      },
      "execution_count": null,
      "outputs": []
    }
  ]
}